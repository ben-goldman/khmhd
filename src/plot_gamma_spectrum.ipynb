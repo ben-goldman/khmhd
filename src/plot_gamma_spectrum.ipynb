{
 "cells": [
  {
   "cell_type": "code",
   "execution_count": 1,
   "id": "9c1d1ad0-303d-48db-8fa4-2dfa2e43d98e",
   "metadata": {},
   "outputs": [],
   "source": [
    "import numpy as np\n",
    "import matplotlib.pyplot as plt\n",
    "from matplotlib import colormaps, cm, colors, ticker\n",
    "import h5py\n",
    "from findiff import FinDiff\n",
    "from numpy import log10 as log"
   ]
  },
  {
   "cell_type": "code",
   "execution_count": 3,
   "id": "5f63768d-3634-4ba4-9b51-7dbab6e8d776",
   "metadata": {},
   "outputs": [],
   "source": [
    "f = h5py.File(\"out_M8_Re900.0.h5\")\n",
    "bk = f[\"Bk\"][:]\n",
    "uk = f[\"Uk\"][:]\n",
    "uk[uk==0.0] = np.nan\n",
    "bk[bk==0.0] = np.nan"
   ]
  },
  {
   "cell_type": "code",
   "execution_count": 4,
   "id": "9b81ccd9-2c56-4e56-8454-a26c81e938a4",
   "metadata": {},
   "outputs": [],
   "source": [
    "ts = f[\"sim_time\"][:]/(2*np.pi)\n",
    "k = np.arange(1, len(uk[0])+1)\n",
    "kk, tt = np.meshgrid(k, ts)"
   ]
  },
  {
   "cell_type": "code",
   "execution_count": 5,
   "id": "74c08c1b-09ea-4112-873b-8166cb6d6028",
   "metadata": {},
   "outputs": [
    {
     "name": "stdout",
     "output_type": "stream",
     "text": [
      "[0.03183099 0.06366198 0.09549297 0.12732395 0.15915494 0.19098593\n",
      " 0.22281692 0.25464791 0.2864789  0.31830989 0.35014087 0.38197186\n",
      " 0.41380285 0.44563384 0.47746483 0.50929582 0.54112681 0.5729578\n",
      " 0.60478878 0.63661977 0.66845076 0.70028175 0.73211274 0.76394373\n",
      " 0.79577472 0.8276057  0.85943669 0.89126768 0.92309867 0.95492966\n",
      " 0.98676065 1.01859164 1.05042262 1.08225361 1.1140846  1.14591559\n",
      " 1.17774658 1.20957757 1.24140856 1.27323954 1.30507053 1.33690152\n",
      " 1.36873251 1.4005635  1.43239449 1.46422548 1.49605647 1.52788745\n",
      " 1.55971844 1.59154943 1.62338042 1.65521141 1.6870424  1.71887339\n",
      " 1.75070437 1.78253536 1.81436635 1.84619734 1.87802833 1.90985932\n",
      " 1.94169031 1.97352129 2.00535228 2.03718327 2.06901426 2.10084525\n",
      " 2.13267624 2.16450723 2.19633821 2.2281692  2.26000019 2.29183118\n",
      " 2.32366217 2.35549316 2.38732415 2.41915513 2.45098612 2.48281711\n",
      " 2.5146481  2.54647909 2.57831008 2.61014107 2.64197206 2.67380304\n",
      " 2.70563403 2.73746502 2.76929601 2.801127   2.83295799 2.86478898\n",
      " 2.89661996 2.92845095 2.96028194 2.99211293 3.02394392 3.05577491\n",
      " 3.0876059  3.11943688 3.15126787 3.18309886 3.21492985 3.24676084\n",
      " 3.27859183 3.31042282 3.3422538  3.37408479 3.40591578 3.43774677\n",
      " 3.46957776 3.50140875 3.53323974 3.56507073 3.59690171 3.6287327\n",
      " 3.66056369 3.69239468 3.72422567 3.75605666 3.78788765 3.81971863\n",
      " 3.85154962 3.88338061 3.9152116  3.94704259 3.97887358 4.01070457\n",
      " 4.04253555 4.07436654 4.10619753 4.13802852 4.16985951 4.2016905\n",
      " 4.23352149 4.26535247 4.29718346 4.32901445 4.36084544 4.39267643\n",
      " 4.42450742 4.45633841 4.4881694  4.52000038 4.55183137 4.58366236\n",
      " 4.61549335 4.64732434 4.67915533 4.71098632 4.7428173  4.77464829\n",
      " 4.80647928 4.83831027 4.87014126 4.90197225 4.93380324 4.96563422\n",
      " 4.99746521 5.0292962  5.06112719 5.09295818 5.12478917 5.15662016\n",
      " 5.18845114 5.22028213 5.25211312 5.28394411 5.3157751  5.34760609\n",
      " 5.37943708 5.41126807 5.44309905 5.47493004 5.50676103 5.53859202\n",
      " 5.57042301 5.602254   5.63408499 5.66591597 5.69774696 5.72957795\n",
      " 5.76140894 5.79323993 5.82507092 5.85690191 5.88873289 5.92056388\n",
      " 5.95239487 5.98422586 6.01605685 6.04788784 6.07971883 6.11154981\n",
      " 6.1433808  6.17521179 6.20704278 6.23887377 6.27070476 6.30253575\n",
      " 6.33436674 6.36619772 6.39802871 6.4298597  6.46169069 6.49352168\n",
      " 6.52535267 6.55718366 6.58901464 6.62084563 6.65267662 6.68450761\n",
      " 6.7163386  6.74816959 6.78000058 6.81183156 6.84366255 6.87549354\n",
      " 6.90732453 6.93915552 6.97098651 7.0028175  7.03464848 7.06647947\n",
      " 7.09831046 7.13014145 7.16197244 7.19380343 7.22563442 7.2574654\n",
      " 7.28929639 7.32112738 7.35295837 7.38478936 7.41662035 7.44845134\n",
      " 7.48028233 7.51211331 7.5439443  7.57577529 7.60760628 7.63943727\n",
      " 7.67126826 7.70309925 7.73493023 7.76676122 7.79859221 7.8304232\n",
      " 7.86225419 7.89408518 7.92591617 7.95774715]\n"
     ]
    }
   ],
   "source": [
    "print(ts)"
   ]
  },
  {
   "cell_type": "code",
   "execution_count": 24,
   "id": "07ab503e-36e1-4faa-a78c-9dfee114b218",
   "metadata": {},
   "outputs": [],
   "source": [
    "d_dt = FinDiff(0, ts[1] - ts[0])\n",
    "g_u = d_dt(np.log(uk))\n",
    "g_b = d_dt(np.log(bk))\n",
    "# Mask suspicious funny stuff?\n",
    "g_u[(g_u > 10) | (g_u < -5)] = np.nan\n",
    "g_b[(g_b > 10) | (g_b < -5)] = np.nan"
   ]
  },
  {
   "cell_type": "code",
   "execution_count": null,
   "id": "337fb361-ab57-4319-9612-cc984b68babe",
   "metadata": {},
   "outputs": [],
   "source": [
    "fig, axs = plt.subplots(2,2, sharex=True, sharey=True, figsize=(20, 10))\n",
    "datas = np.array([[uk, bk], [g_u, g_b]])\n",
    "titles = np.array([[\"$U^2(k, t)$\", \"$B^2(k, t)$\"], [\"$\\gamma_U(k, t)$\", \"$\\gamma_B(k, t)$\"]])\n",
    "\n",
    "for i in (0, 1):\n",
    "    if not i:\n",
    "        cmap = colormaps[\"viridis\"]\n",
    "        normalizer = colors.LogNorm(1e-24, 1e-1)\n",
    "        im = cm.ScalarMappable(norm=normalizer, cmap=cmap)\n",
    "        tk=ticker.LogLocator(numticks=30)\n",
    "    else:\n",
    "        cmap = colormaps[\"viridis\"]\n",
    "        normalizer = colors.Normalize(-5, 30)\n",
    "        im = cm.ScalarMappable(norm=normalizer, cmap=cmap)\n",
    "        tk = ticker.LinearLocator()\n",
    "    for j in (0, 1):\n",
    "        data = datas[i, j]\n",
    "        ax = axs[i, j]\n",
    "        ax.contourf(tt, kk, data, cmap=cmap, norm=normalizer, locator=tk)\n",
    "        ax.set_yscale(\"log\", base=2)\n",
    "        ax.set_title(titles[i, j])\n",
    "        if i:\n",
    "            ax.set_xlabel(\"$t$\")\n",
    "        if not j:\n",
    "            ax.set_ylabel(\"$k$\")\n",
    "    fig.colorbar(im, ax=axs[i].ravel().tolist())\n",
    "# plt.savefig(\"gamma_spectrum.pdf\")"
   ]
  },
  {
   "cell_type": "code",
   "execution_count": 17,
   "id": "a1caaca5-d4bf-4583-90a3-5ebe45e835be",
   "metadata": {},
   "outputs": [],
   "source": [
    "b_bar = f[\"B_mean\"][:, 0]"
   ]
  },
  {
   "cell_type": "code",
   "execution_count": 19,
   "id": "7fe24aea-37c1-4d0e-8f81-c4c7b4fed4fe",
   "metadata": {},
   "outputs": [
    {
     "data": {
      "text/plain": [
       "[<matplotlib.lines.Line2D at 0x7f64652ae690>]"
      ]
     },
     "execution_count": 19,
     "metadata": {},
     "output_type": "execute_result"
    },
    {
     "data": {
      "image/png": "[encoded data removed]",
      "text/plain": [
       "<Figure size 640x480 with 1 Axes>"
      ]
     },
     "metadata": {},
     "output_type": "display_data"
    }
   ],
   "source": [
    "plt.plot(ts, d_dt(np.log(b_bar)))"
   ]
  },
  {
   "cell_type": "code",
   "execution_count": 25,
   "id": "7eeb6c54-5a68-498f-ac13-c831716ee4fe",
   "metadata": {},
   "outputs": [
    {
     "data": {
      "text/plain": [
       "<KeysViewHDF5 ['100', '1000', '1020', '1040', '1060', '1080', '1100', '1120', '1140', '1160', '1180', '120', '1200', '1220', '1240', '1260', '1280', '1300', '1320', '1340', '1360', '1380', '140', '1400', '1420', '1440', '1460', '1480', '1500', '1520', '1540', '1560', '1580', '160', '1600', '1620', '1640', '1660', '180', '20', '200', '220', '240', '260', '280', '300', '320', '340', '360', '380', '40', '400', '420', '440', '460', '480', '500', '520', '540', '560', '580', '60', '600', '620', '640', '660', '680', '700', '720', '740', '760', '780', '80', '800', '820', '840', '860', '880', '900', '920', '940', '960', '980']>"
      ]
     },
     "execution_count": 25,
     "metadata": {},
     "output_type": "execute_result"
    }
   ],
   "source": [
    "img = h5py.File(\"img_M6_Re73.0_w.h5\")\n",
    "img[\"UB0/3D\"].keys()\n",
    "plt.imshow(img[\"UB0/3D/"
   ]
  },
  {
   "cell_type": "code",
   "execution_count": 10,
   "id": "81f77be4-d81a-412f-b95b-b0b502980008",
   "metadata": {},
   "outputs": [
    {
     "data": {
      "text/plain": [
       "(250, 90)"
      ]
     },
     "execution_count": 10,
     "metadata": {},
     "output_type": "execute_result"
    }
   ],
   "source": [
    "b_bar.shape"
   ]
  },
  {
   "cell_type": "code",
   "execution_count": null,
   "id": "182eda89-9162-48db-8dda-f931c36fd50c",
   "metadata": {},
   "outputs": [],
   "source": [
    "from tqdm import tqdm\n",
    "for (i, t) in tqdm(enumerate(ts[:])):\n",
    "    if i % 10 == 0:\n",
    "        fig, ax = plt.subplots()\n",
    "        ax.plot(k, uk[i], label=\"$U^2(k)$\")\n",
    "        ax.plot(k, bk[i], label=\"$B^2(k)$\")\n",
    "        ax.set_yscale(\"log\")\n",
    "        ax.set_xscale(\"log\", base=2)\n",
    "        ax.set_xlabel(\"$k$\")\n",
    "        ax.set_ylabel(\"$E(k)$\")\n",
    "        fig.legend()\n",
    "        fig.suptitle(f\"Energy spectrum, t={t:2.3f}\")\n",
    "        plt.savefig(f\"frames/Ek{i:05}.jpg\")\n",
    "        plt.close()"
   ]
  }
 ],
 "metadata": {
  "kernelspec": {
   "display_name": "Python 3 (ipykernel)",
   "language": "python",
   "name": "python3"
  },
  "language_info": {
   "codemirror_mode": {
    "name": "ipython",
    "version": 3
   },
   "file_extension": ".py",
   "mimetype": "text/x-python",
   "name": "python",
   "nbconvert_exporter": "python",
   "pygments_lexer": "ipython3",
   "version": "3.11.4"
  }
 },
 "nbformat": 4,
 "nbformat_minor": 5
}
